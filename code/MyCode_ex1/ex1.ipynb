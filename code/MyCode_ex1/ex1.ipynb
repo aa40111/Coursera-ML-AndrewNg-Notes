{
 "cells": [
  {
   "cell_type": "markdown",
   "id": "8cc08a64",
   "metadata": {},
   "source": [
    "# 练习1\n",
    "练习1  \n"
   ]
  },
  {
   "cell_type": "code",
   "execution_count": 11,
   "id": "359a2f37",
   "metadata": {
    "scrolled": true
   },
   "outputs": [
    {
     "name": "stdout",
     "output_type": "stream",
     "text": [
      "环境搭建成功\n"
     ]
    }
   ],
   "source": [
    "print(\"环境搭建成功\")"
   ]
  },
  {
   "cell_type": "code",
   "execution_count": null,
   "id": "13aa2d1a",
   "metadata": {},
   "outputs": [],
   "source": []
  },
  {
   "cell_type": "code",
   "execution_count": null,
   "id": "9b359af6",
   "metadata": {},
   "outputs": [],
   "source": []
  }
 ],
 "metadata": {
  "kernelspec": {
   "display_name": "Python 3 (ipykernel)",
   "language": "python",
   "name": "python3"
  },
  "language_info": {
   "codemirror_mode": {
    "name": "ipython",
    "version": 3
   },
   "file_extension": ".py",
   "mimetype": "text/x-python",
   "name": "python",
   "nbconvert_exporter": "python",
   "pygments_lexer": "ipython3",
   "version": "3.7.4"
  }
 },
 "nbformat": 4,
 "nbformat_minor": 5
}
