{
 "cells": [
  {
   "cell_type": "markdown",
   "id": "10eb94bc",
   "metadata": {},
   "source": [
    "# 练习2, 多变量的梯度下降算法"
   ]
  },
  {
   "cell_type": "code",
   "execution_count": 1,
   "id": "732311f1",
   "metadata": {},
   "outputs": [],
   "source": [
    "import pandas as pd\n",
    "import matplotlib.pyplot as plt\n",
    "import numpy as np"
   ]
  },
  {
   "cell_type": "code",
   "execution_count": 2,
   "id": "3752b2cc",
   "metadata": {
    "scrolled": true
   },
   "outputs": [
    {
     "data": {
      "text/html": [
       "<div>\n",
       "<style scoped>\n",
       "    .dataframe tbody tr th:only-of-type {\n",
       "        vertical-align: middle;\n",
       "    }\n",
       "\n",
       "    .dataframe tbody tr th {\n",
       "        vertical-align: top;\n",
       "    }\n",
       "\n",
       "    .dataframe thead th {\n",
       "        text-align: right;\n",
       "    }\n",
       "</style>\n",
       "<table border=\"1\" class=\"dataframe\">\n",
       "  <thead>\n",
       "    <tr style=\"text-align: right;\">\n",
       "      <th></th>\n",
       "      <th>houseSize</th>\n",
       "      <th>bedRomNumber</th>\n",
       "      <th>price</th>\n",
       "    </tr>\n",
       "  </thead>\n",
       "  <tbody>\n",
       "    <tr>\n",
       "      <th>0</th>\n",
       "      <td>2104</td>\n",
       "      <td>3</td>\n",
       "      <td>399900</td>\n",
       "    </tr>\n",
       "    <tr>\n",
       "      <th>1</th>\n",
       "      <td>1600</td>\n",
       "      <td>3</td>\n",
       "      <td>329900</td>\n",
       "    </tr>\n",
       "    <tr>\n",
       "      <th>2</th>\n",
       "      <td>2400</td>\n",
       "      <td>3</td>\n",
       "      <td>369000</td>\n",
       "    </tr>\n",
       "    <tr>\n",
       "      <th>3</th>\n",
       "      <td>1416</td>\n",
       "      <td>2</td>\n",
       "      <td>232000</td>\n",
       "    </tr>\n",
       "    <tr>\n",
       "      <th>4</th>\n",
       "      <td>3000</td>\n",
       "      <td>4</td>\n",
       "      <td>539900</td>\n",
       "    </tr>\n",
       "  </tbody>\n",
       "</table>\n",
       "</div>"
      ],
      "text/plain": [
       "   houseSize  bedRomNumber   price\n",
       "0       2104             3  399900\n",
       "1       1600             3  329900\n",
       "2       2400             3  369000\n",
       "3       1416             2  232000\n",
       "4       3000             4  539900"
      ]
     },
     "execution_count": 2,
     "metadata": {},
     "output_type": "execute_result"
    }
   ],
   "source": [
    "data = pd.read_csv(\"ex1data2.txt\", names = [\"houseSize\", \"bedRomNumber\", \"price\"])\n",
    "data.head()"
   ]
  },
  {
   "cell_type": "markdown",
   "id": "fa8e32f1",
   "metadata": {},
   "source": [
    "将data数据归一化，归一化的目的是为了让学习速率$\\alpha$可以适应所有参数的方向"
   ]
  },
  {
   "cell_type": "code",
   "execution_count": 3,
   "id": "0aba11c6",
   "metadata": {},
   "outputs": [
    {
     "data": {
      "text/html": [
       "<div>\n",
       "<style scoped>\n",
       "    .dataframe tbody tr th:only-of-type {\n",
       "        vertical-align: middle;\n",
       "    }\n",
       "\n",
       "    .dataframe tbody tr th {\n",
       "        vertical-align: top;\n",
       "    }\n",
       "\n",
       "    .dataframe thead th {\n",
       "        text-align: right;\n",
       "    }\n",
       "</style>\n",
       "<table border=\"1\" class=\"dataframe\">\n",
       "  <thead>\n",
       "    <tr style=\"text-align: right;\">\n",
       "      <th></th>\n",
       "      <th>houseSize</th>\n",
       "      <th>bedRomNumber</th>\n",
       "      <th>price</th>\n",
       "    </tr>\n",
       "  </thead>\n",
       "  <tbody>\n",
       "    <tr>\n",
       "      <th>0</th>\n",
       "      <td>0.130010</td>\n",
       "      <td>-0.223675</td>\n",
       "      <td>0.475747</td>\n",
       "    </tr>\n",
       "    <tr>\n",
       "      <th>1</th>\n",
       "      <td>-0.504190</td>\n",
       "      <td>-0.223675</td>\n",
       "      <td>-0.084074</td>\n",
       "    </tr>\n",
       "    <tr>\n",
       "      <th>2</th>\n",
       "      <td>0.502476</td>\n",
       "      <td>-0.223675</td>\n",
       "      <td>0.228626</td>\n",
       "    </tr>\n",
       "    <tr>\n",
       "      <th>3</th>\n",
       "      <td>-0.735723</td>\n",
       "      <td>-1.537767</td>\n",
       "      <td>-0.867025</td>\n",
       "    </tr>\n",
       "    <tr>\n",
       "      <th>4</th>\n",
       "      <td>1.257476</td>\n",
       "      <td>1.090417</td>\n",
       "      <td>1.595389</td>\n",
       "    </tr>\n",
       "  </tbody>\n",
       "</table>\n",
       "</div>"
      ],
      "text/plain": [
       "   houseSize  bedRomNumber     price\n",
       "0   0.130010     -0.223675  0.475747\n",
       "1  -0.504190     -0.223675 -0.084074\n",
       "2   0.502476     -0.223675  0.228626\n",
       "3  -0.735723     -1.537767 -0.867025\n",
       "4   1.257476      1.090417  1.595389"
      ]
     },
     "execution_count": 3,
     "metadata": {},
     "output_type": "execute_result"
    }
   ],
   "source": [
    "data = (data - data.mean())/data.std()\n",
    "data.head()"
   ]
  },
  {
   "cell_type": "markdown",
   "id": "5d9b5476",
   "metadata": {},
   "source": [
    "将data转换为X 和 y数据，X数据添加一行1"
   ]
  },
  {
   "cell_type": "code",
   "execution_count": 4,
   "id": "3ca71ab7",
   "metadata": {},
   "outputs": [
    {
     "data": {
      "text/plain": [
       "(47, 1)"
      ]
     },
     "execution_count": 4,
     "metadata": {},
     "output_type": "execute_result"
    }
   ],
   "source": [
    "data.insert(0, 'Ones', 1)   #这时候要给数据添加一行，是因为x0 是一列所有行全为1的列，他的作用是与theta0相乘。\n",
    "colNumber = data.shape[1]   #计算出一共的列数\n",
    "X = data.iloc[:,0:colNumber-1] #选取前3列，所有行\n",
    "y = data.iloc[:,colNumber-1:colNumber] #选取最后一行，iloc是index location的意思，通过切片的方式，可以快速取出数据\n",
    "y.shape"
   ]
  },
  {
   "cell_type": "markdown",
   "id": "7eb98c20",
   "metadata": {},
   "source": [
    "将pandas格式转换为np格式，以便进行矩阵运算"
   ]
  },
  {
   "cell_type": "code",
   "execution_count": 5,
   "id": "8e243bd2",
   "metadata": {},
   "outputs": [],
   "source": [
    "X = np.matrix(X.values)\n",
    "y = np.matrix(y.values)\n",
    "theta = np.matrix(np.array([0.0,0.0,0.0]))"
   ]
  },
  {
   "cell_type": "markdown",
   "id": "45aee1bb",
   "metadata": {},
   "source": [
    "代价函数:"
   ]
  },
  {
   "cell_type": "code",
   "execution_count": 6,
   "id": "a0ca1f60",
   "metadata": {},
   "outputs": [],
   "source": [
    "def costFun(X, y, theta):\n",
    "    square = np.power((X * theta.T - y), 2)\n",
    "    ret = square.sum() / (2.0 * len(y))\n",
    "    return ret\n",
    "    "
   ]
  },
  {
   "cell_type": "markdown",
   "id": "0325f7a1",
   "metadata": {},
   "source": [
    "代价函数的梯度下降算法\n",
    "\n",
    "对于任何一个 ${\\theta }_{j}$  \n",
    "$${{\\theta }_{j}}:={{\\theta }_{j}}- \\alpha \\frac{1}{m}\\sum\\limits_{i=1}^{m}({h}_{\\theta}({x}^{(i)}) - {y}^{(i)}) \\cdot {x}^{(i)}_{j}$$"
   ]
  },
  {
   "cell_type": "code",
   "execution_count": 7,
   "id": "3215932c",
   "metadata": {},
   "outputs": [],
   "source": [
    "def gradientDescent(X,y,theta,iterNum,alpha):\n",
    "    thetaBuffer = theta\n",
    "    cost = np.zeros(iterNum)\n",
    "    for i in range(iterNum):\n",
    "        error = X * theta.T - y\n",
    "        for j in range(len(theta.T)):\n",
    "            temp = np.multiply(error, X[:,j:j+1])\n",
    "            thetaBuffer[0,j] = theta[0,j] - ((alpha / len(y)) * temp.sum())\n",
    "        theta = thetaBuffer\n",
    "        cost[i] = costFun(X, y, theta)\n",
    "    return theta, cost"
   ]
  },
  {
   "cell_type": "markdown",
   "id": "135b8abc",
   "metadata": {},
   "source": [
    "运行批量梯度下降算法"
   ]
  },
  {
   "cell_type": "code",
   "execution_count": 8,
   "id": "088d7b33",
   "metadata": {},
   "outputs": [],
   "source": [
    "\n",
    "g, cost = gradientDescent(X, y, theta, 1000, 0.01)\n",
    "\n"
   ]
  },
  {
   "cell_type": "markdown",
   "id": "5efcef44",
   "metadata": {},
   "source": [
    "用plt查看结果,可以看到error在收敛"
   ]
  },
  {
   "cell_type": "code",
   "execution_count": 9,
   "id": "f781c2c5",
   "metadata": {},
   "outputs": [
    {
     "data": {
      "image/png": "[encoded data removed]",
      "text/plain": [
       "<Figure size 864x576 with 1 Axes>"
      ]
     },
     "metadata": {
      "needs_background": "light"
     },
     "output_type": "display_data"
    }
   ],
   "source": [
    "fig, ax = plt.subplots(figsize=(12,8))\n",
    "ax.plot(np.arange(1000), cost, 'r')\n",
    "ax.set_xlabel('Iterations')\n",
    "ax.set_ylabel('Cost')\n",
    "ax.set_title('Error vs. Training Epoch')\n",
    "plt.show()"
   ]
  }
 ],
 "metadata": {
  "kernelspec": {
   "display_name": "Python 3 (ipykernel)",
   "language": "python",
   "name": "python3"
  },
  "language_info": {
   "codemirror_mode": {
    "name": "ipython",
    "version": 3
   },
   "file_extension": ".py",
   "mimetype": "text/x-python",
   "name": "python",
   "nbconvert_exporter": "python",
   "pygments_lexer": "ipython3",
   "version": "3.7.4"
  }
 },
 "nbformat": 4,
 "nbformat_minor": 5
}
